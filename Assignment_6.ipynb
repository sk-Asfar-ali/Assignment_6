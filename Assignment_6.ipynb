{
 "cells": [
  {
   "cell_type": "code",
   "execution_count": 1,
   "id": "9ce05cf5",
   "metadata": {},
   "outputs": [],
   "source": [
    "import pandas as pd\n",
    "import numpy as ny\n",
    "from collections import Counter"
   ]
  },
  {
   "cell_type": "code",
   "execution_count": 2,
   "id": "75791994",
   "metadata": {},
   "outputs": [],
   "source": [
    "T1=['M','O','N','K','E','Y']\n",
    "T2=['D','O','N','K','E','Y']\n",
    "T3=['M','A','K','E']\n",
    "T4=['M','U','C','K','Y']\n",
    "T5=['C','O','O','K','I','E']"
   ]
  },
  {
   "cell_type": "code",
   "execution_count": 3,
   "id": "fde559fe",
   "metadata": {},
   "outputs": [
    {
     "name": "stdout",
     "output_type": "stream",
     "text": [
      "{'M': 3, 'O': 4, 'N': 2, 'K': 5, 'E': 4, 'Y': 3, 'D': 1, 'A': 1, 'U': 1, 'C': 2, 'I': 1}\n"
     ]
    }
   ],
   "source": [
    "l1=T1+T2+T3+T4+T5\n",
    "frequency=Counter(l1)\n",
    "C1=dict(frequency)\n",
    "print(C1)\n",
    "min_frequency = 3"
   ]
  },
  {
   "cell_type": "code",
   "execution_count": 4,
   "id": "7408884a",
   "metadata": {},
   "outputs": [],
   "source": [
    "L1 = {key: value for key, value in C1.items() if value >= min_frequency}"
   ]
  },
  {
   "cell_type": "code",
   "execution_count": 5,
   "id": "31e26354",
   "metadata": {},
   "outputs": [
    {
     "name": "stdout",
     "output_type": "stream",
     "text": [
      "{'M': 3, 'O': 4, 'K': 5, 'E': 4, 'Y': 3}\n"
     ]
    }
   ],
   "source": [
    "print(L1)"
   ]
  },
  {
   "cell_type": "code",
   "execution_count": 6,
   "id": "2b49154a",
   "metadata": {},
   "outputs": [],
   "source": [
    "from collections import defaultdict"
   ]
  },
  {
   "cell_type": "code",
   "execution_count": 7,
   "id": "3656b48c",
   "metadata": {},
   "outputs": [],
   "source": [
    "transactions = [\n",
    "    ['M', 'O', 'N', 'K', 'E', 'Y'],\n",
    "    ['D', 'O', 'N', 'K', 'E', 'Y'],\n",
    "    ['M', 'A', 'K', 'E'],\n",
    "    ['M', 'U', 'C', 'K', 'Y'],\n",
    "    ['C', 'O', 'O', 'K', 'I', 'E']\n",
    "]"
   ]
  },
  {
   "cell_type": "code",
   "execution_count": 8,
   "id": "9f8074b8",
   "metadata": {},
   "outputs": [],
   "source": [
    "min_support = 3\n",
    "\n",
    "item_counts = defaultdict(int)\n",
    "for transaction in transactions:\n",
    "    for item in transaction:\n",
    "        item_counts[item] += 1"
   ]
  },
  {
   "cell_type": "code",
   "execution_count": 9,
   "id": "d7ac9128",
   "metadata": {},
   "outputs": [],
   "source": [
    "frequent_1_itemsets = {item: count for item, count in item_counts.items() if count >= min_support}\n",
    "\n",
    "frequent_itemsets = [list(frequent_1_itemsets.keys())]\n"
   ]
  },
  {
   "cell_type": "code",
   "execution_count": null,
   "id": "2e04d6b7",
   "metadata": {},
   "outputs": [],
   "source": [
    "while True:\n",
    "    candidate_itemsets = []\n",
    "    for i in range(len(frequent_itemsets[-1])):\n",
    "        for j in range(i + 1, len(frequent_itemsets[-1])):\n",
    "            itemset1 = frequent_itemsets[-1][i]\n",
    "            itemset2 = frequent_itemsets[-1][j]\n",
    "            candidate = sorted(list(set(itemset1) | set(itemset2)))\n",
    "            if len(candidate) == k and candidate not in candidate_itemsets:\n",
    "                candidate_itemsets.append(candidate)\n",
    "\n",
    "    \n",
    "    candidate_counts = defaultdict(int)\n",
    "    for transaction in transactions:\n",
    "        for candidate in candidate_itemsets:\n",
    "            if set(candidate).issubset(set(transaction)):\n",
    "                candidate_counts[tuple(candidate)] += 1\n",
    "\n",
    "    \n",
    "    frequent_k_itemsets = [list(candidate) for candidate, count in candidate_counts.items() if count >= min_support]\n",
    "\n",
    "    if not frequent_k_itemsets:\n",
    "        break\n",
    "\n",
    "    frequent_itemsets.append(frequent_k_itemsets)\n",
    "    k += 1"
   ]
  },
  {
   "cell_type": "code",
   "execution_count": null,
   "id": "22498209",
   "metadata": {},
   "outputs": [],
   "source": [
    "for itemset in frequent_itemsets:\n",
    "    for item in itemset:\n",
    "        print(item)"
   ]
  }
 ],
 "metadata": {
  "kernelspec": {
   "display_name": "Python 3 (ipykernel)",
   "language": "python",
   "name": "python3"
  },
  "language_info": {
   "codemirror_mode": {
    "name": "ipython",
    "version": 3
   },
   "file_extension": ".py",
   "mimetype": "text/x-python",
   "name": "python",
   "nbconvert_exporter": "python",
   "pygments_lexer": "ipython3",
   "version": "3.9.17"
  }
 },
 "nbformat": 4,
 "nbformat_minor": 5
}
